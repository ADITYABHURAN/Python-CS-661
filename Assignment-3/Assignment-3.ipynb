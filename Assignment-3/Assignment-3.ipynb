{
 "cells": [
  {
   "cell_type": "markdown",
   "metadata": {
    "id": "skBuSVEA5YQV"
   },
   "source": [
    "<center>\n",
    "    \n",
    "# **Scenario: Text Analysis**\n",
    "\n",
    "</center>\n"
   ]
  },
  {
   "cell_type": "markdown",
   "metadata": {
    "id": "raQfI-Y_5YQW"
   },
   "source": [
    "# What is text analysis?\n",
    "Text analysis, also known as text mining or text analytics, refers to the process of extracting meaningful information and insights from textual data.\n"
   ]
  },
  {
   "cell_type": "markdown",
   "metadata": {
    "id": "GvUrzH7A5YQW"
   },
   "source": [
    "## Objectives\n",
    "\n",
    "After completing this assignment, you will be able to:\n",
    "- Use Python commands to perform text analysis.\n",
    "- Convert the text to lowercase and then find and count the frequency of all unique words, as well as a specified word.\n"
   ]
  },
  {
   "cell_type": "markdown",
   "metadata": {
    "id": "-og0Dw0X5YQW"
   },
   "source": [
    "## Setup\n"
   ]
  },
  {
   "cell_type": "markdown",
   "metadata": {
    "id": "sNzl9ra95YQW"
   },
   "source": [
    "For this assignment, you will be using the following data types:\n",
    "* List\n",
    "* Strings\n",
    "* Classes and objects\n"
   ]
  },
  {
   "cell_type": "markdown",
   "metadata": {
    "id": "g9k7EXdE5YQW"
   },
   "source": [
    "**Let's consider a real-life scenario where you are analyzing customer feedback for a product. You have a large data set of customer reviews in the form of strings, and you want to extract useful information from them using the three identified tasks:**\n",
    "\n",
    "**Task 1. String in lowercase:**\n",
    "You want to pre-process the customer feedback by converting all the text to lowercase. This step helps standardize the text. Lower casing the text allows you to focus on the content rather than the specific letter casing.\n",
    "\n",
    "**Task 2. Frequency of all words in a given string:**\n",
    "After converting the text to lowercase, you want to determine the frequency of each word in the customer feedback. This information will help you identify which words are used more frequently, indicating the key aspects or topics that customers are mentioning in their reviews. By analyzing the word frequencies, you can gain insights into the most common issues raised by customers.\n",
    "\n",
    "**Task 3. Frequency of a specific word:**\n",
    "In addition to analyzing the overall word frequencies, you want to specifically track the frequency of a particular word that is relevant to your analysis. For example, you might be interested in monitoring how often the word \"reliable\" appears in customer reviews to gauge customer sentiment about the product's reliability. By focusing on the frequency of a specific word, you can gain a deeper understanding of customer opinions or preferences related to that particular aspect.\n",
    "\n",
    "By performing these tasks on the customer feedback dataset, you can gain valuable insights into customer sentiment\n"
   ]
  },
  {
   "cell_type": "markdown",
   "metadata": {
    "id": "P-vJr21g5YQW"
   },
   "source": [
    "----\n"
   ]
  },
  {
   "cell_type": "markdown",
   "metadata": {
    "id": "G9_hCo0D5YQW"
   },
   "source": [
    "<center>\n",
    "    \n",
    "# Part-A\n"
   ]
  },
  {
   "cell_type": "markdown",
   "metadata": {
    "id": "gNgjYMow5YQW"
   },
   "source": [
    "<center>\n",
    "    \n",
    "**Note: In Part-A, you would not be getting any output as you are just storing the string and creating a class.**\n",
    "    </center>\n",
    "    \n"
   ]
  },
  {
   "cell_type": "markdown",
   "metadata": {
    "id": "YOVSO7vk5YQW"
   },
   "source": [
    "## Step 1: Define a string\n",
    "\"Lorem ipsum dolor! diam amet, consetetur Lorem magna. sed diam nonumy eirmod tempor. diam et labore? et diam magna. et diam amet.\" <br>\n",
    "**Hint: Use a variable and store the above string.**\n"
   ]
  },
  {
   "cell_type": "code",
   "execution_count": 1,
   "metadata": {
    "id": "FF2Zzf7t7xP1"
   },
   "outputs": [],
   "source": [
    "\n",
    "string = \"Lorem ipsum dolor! diam amet, consetetur Lorem magna. sed diam nonumy eirmod tempor. diam et labore? et diam magna. et diam amet.\"\n",
    "\n",
    "\n",
    "\n"
   ]
  },
  {
   "cell_type": "markdown",
   "metadata": {
    "id": "EaoB88-H5YQX"
   },
   "source": [
    "### To achieve the tasks mentioned in the scenario, you need to create a class with three different methods.\n"
   ]
  },
  {
   "cell_type": "markdown",
   "metadata": {
    "id": "BunyuYxL5YQX"
   },
   "source": [
    "## Step 2: Define the class and its attributes\n"
   ]
  },
  {
   "cell_type": "markdown",
   "metadata": {
    "id": "Obh-O9Bx5YQX"
   },
   "source": [
    "1. Create a class named TextAnalyzer.\n",
    "2. Define the constructor `__init__` method that takes a text argument.\n"
   ]
  },
  {
   "cell_type": "code",
   "execution_count": 2,
   "metadata": {},
   "outputs": [],
   "source": [
    "\n",
    "class TextAnalyzer:\n",
    "    def __init__(self, string):\n",
    "        \n",
    "        self.string = string\n"
   ]
  },
  {
   "cell_type": "markdown",
   "metadata": {
    "id": "XDIlLNKx5YQY"
   },
   "source": [
    "## Step 3: Implement a code to format the text in lowercase\n"
   ]
  },
  {
   "cell_type": "markdown",
   "metadata": {
    "id": "IiNT7j-l5YQY"
   },
   "source": [
    "1. Inside the constructor, convert the text argument to lowercase using the `lower()` method. *Syntax*: `string.lower()`\n",
    "2. Then, remove punctuation marks (periods, exclamation marks, commas, and question marks) from the text using the `replace()` method. *Syntax*: `string.replace(oldvalue, newvalue, count)`\n",
    "3. Finally, assign the formatted text to a new attribute called fmtText.\n",
    "\n",
    "**Here you will be updating the above `TextAnalyzer` class with the points mentioned above.**\n"
   ]
  },
  {
   "cell_type": "code",
   "execution_count": 4,
   "metadata": {},
   "outputs": [],
   "source": [
    "class TextAnalyzer:\n",
    "    def __init__(self, string):\n",
    "        \n",
    "        string = string.lower()\n",
    "\n",
    "        \n",
    "        string = string.replace(\".\", \"\")\n",
    "        string = string.replace(\"!\", \"\")\n",
    "        string = string.replace(\",\", \"\")\n",
    "        string = string.replace(\"?\", \"\")\n",
    "\n",
    "    \n",
    "        self.fmtText = string\n"
   ]
  },
  {
   "cell_type": "markdown",
   "metadata": {
    "id": "a3fLKwQU5YQY"
   },
   "source": [
    "## Step 4: Implement a code to count the frequency of all unique words\n"
   ]
  },
  {
   "cell_type": "markdown",
   "metadata": {
    "id": "RTjWGgPu5YQY"
   },
   "source": [
    "* In this step, you will implement the `freqAll()` method with the below parameters:\n",
    "     1. Split the fmtText attribute into individual words using the `split()` method.\n",
    "     2. Create an empty dictionary to store the word frequency.\n",
    "     3. Iterate over the list of words and update the frequency dictionary accordingly.\n",
    "     4. Use `count` method for counting the occurence.\n",
    "     5. Return the frequency dictionary.\n",
    "     \n",
    "**Update the above `TextAnalyzer` class with points mentioned above.**\n"
   ]
  },
  {
   "cell_type": "code",
   "execution_count": 5,
   "metadata": {},
   "outputs": [],
   "source": [
    "class TextAnalyzer:\n",
    "    def __init__(self, string):\n",
    "\n",
    "        string = string.lower()\n",
    "        string = string.replace(\".\", \"\")\n",
    "        string = string.replace(\"!\", \"\")\n",
    "        string = string.replace(\",\", \"\")\n",
    "        string = string.replace(\"?\", \"\")\n",
    "        self.fmtText = string\n",
    "\n",
    "    def freqAll(self):\n",
    "        \n",
    "        words = self.fmtText.split()\n",
    "\n",
    "        \n",
    "        freq_dict = {}\n",
    "\n",
    "        \n",
    "        for word in words:\n",
    "            freq_dict[word] = words.count(word)\n",
    "\n",
    "        \n",
    "        return freq_dict\n"
   ]
  },
  {
   "cell_type": "markdown",
   "metadata": {
    "id": "ZgA-tuSr5YQZ"
   },
   "source": [
    "## Step 5: Implement a code to count the frequency of a specific word\n"
   ]
  },
  {
   "cell_type": "markdown",
   "metadata": {
    "id": "pHRfxGB65YQZ"
   },
   "source": [
    "In step-5, you have to implement the `freqOf(word)` method that takes a word argument:\n",
    "   1. Create a method and pass the word that needs to be found.\n",
    "   2. Get the `freqAll` method to look for count and check if that word is in the list.\n",
    "   3. Return the count. If the word is not found, the count returned is 0.\n",
    "   \n",
    "**Update the above `TextAnalyzer` class with the points mentioned above.**\n"
   ]
  },
  {
   "cell_type": "code",
   "execution_count": 6,
   "metadata": {
    "id": "wgFa03EL5YQZ"
   },
   "outputs": [],
   "source": [
    "class TextAnalyzer:\n",
    "    def __init__(self, string):\n",
    "       \n",
    "        string = string.lower()\n",
    "        string = string.replace(\".\", \"\")\n",
    "        string = string.replace(\"!\", \"\")\n",
    "        string = string.replace(\",\", \"\")\n",
    "        string = string.replace(\"?\", \"\")\n",
    "        self.fmtText = string\n",
    "\n",
    "    \n",
    "    def freqAll(self):\n",
    "        words = self.fmtText.split()\n",
    "        freq_dict = {}\n",
    "        for word in words:\n",
    "            freq_dict[word] = words.count(word)\n",
    "        return freq_dict\n",
    "\n",
    "    \n",
    "    def freqOf(self, word):\n",
    "        \n",
    "        freq_dict = self.freqAll()\n",
    "\n",
    "        \n",
    "        if word.lower() in freq_dict:\n",
    "            return freq_dict[word.lower()]\n",
    "        else:\n",
    "            \n",
    "            return 0\n"
   ]
  },
  {
   "cell_type": "markdown",
   "metadata": {
    "id": "wE4P-SD45YQZ"
   },
   "source": [
    "### Now, you have successfully created a class with three methods.\n"
   ]
  },
  {
   "cell_type": "markdown",
   "metadata": {
    "id": "UX3XL37f5YQZ"
   },
   "source": [
    "<center>\n",
    "# Part-B\n",
    "  \n"
   ]
  },
  {
   "cell_type": "markdown",
   "metadata": {
    "id": "BGjvIXy75YQZ"
   },
   "source": [
    "<center>\n",
    "    \n",
    "**In Part B, you will call the functions created in Part A, allowing the functions to execute and generate output.**\n",
    "    </center>\n"
   ]
  },
  {
   "cell_type": "markdown",
   "metadata": {
    "id": "aOHu1H7a5YQZ"
   },
   "source": [
    "## Step 1: Create an instance of TextAnalyzer class\n",
    "* Instantiate the TextAnalyzer class by passing the given string as an argument.\n"
   ]
  },
  {
   "cell_type": "code",
   "execution_count": 7,
   "metadata": {
    "id": "MemjbiWc5YQZ"
   },
   "outputs": [],
   "source": [
    "\n",
    "string = \"Lorem ipsum dolor! diam amet, consetetur Lorem magna. sed diam nonumy eirmod tempor. diam et labore? et diam magna. et diam amet.\"\n",
    "ta = TextAnalyzer(string)\n"
   ]
  },
  {
   "cell_type": "markdown",
   "metadata": {
    "id": "7Fjr-UQK5YQZ"
   },
   "source": [
    "## Step 2: Call the function that converts the data into lowercase\n"
   ]
  },
  {
   "cell_type": "code",
   "execution_count": 8,
   "metadata": {
    "id": "F7ip4qaW5YQa"
   },
   "outputs": [
    {
     "name": "stdout",
     "output_type": "stream",
     "text": [
      "lorem ipsum dolor diam amet consetetur lorem magna sed diam nonumy eirmod tempor diam et labore et diam magna et diam amet\n"
     ]
    }
   ],
   "source": [
    "\n",
    "class TextAnalyzer:\n",
    "    def __init__(self, string):\n",
    "        string = string.lower()\n",
    "        string = string.replace(\".\", \"\")\n",
    "        string = string.replace(\"!\", \"\")\n",
    "        string = string.replace(\",\", \"\")\n",
    "        string = string.replace(\"?\", \"\")\n",
    "        self.fmtText = string\n",
    "\n",
    "    def freqAll(self):\n",
    "        words = self.fmtText.split()\n",
    "        freq_dict = {}\n",
    "        for word in words:\n",
    "            freq_dict[word] = words.count(word)\n",
    "        return freq_dict\n",
    "\n",
    "    def freqOf(self, word):\n",
    "        freq_dict = self.freqAll()\n",
    "        if word.lower() in freq_dict:\n",
    "            return freq_dict[word.lower()]\n",
    "        else:\n",
    "            return 0\n",
    "\n",
    "\n",
    "string = \"Lorem ipsum dolor! diam amet, consetetur Lorem magna. sed diam nonumy eirmod tempor. diam et labore? et diam magna. et diam amet.\"\n",
    "ta = TextAnalyzer(string)\n",
    "\n",
    "\n",
    "print(ta.fmtText)\n"
   ]
  },
  {
   "cell_type": "markdown",
   "metadata": {
    "id": "V-JLfyW75YQa"
   },
   "source": [
    "You have successfully converted string into lowercase.\n"
   ]
  },
  {
   "cell_type": "markdown",
   "metadata": {
    "id": "f4oUVchV5YQa"
   },
   "source": [
    "## Step 3: Call the function that counts the frequency of all unique words from the data\n"
   ]
  },
  {
   "cell_type": "code",
   "execution_count": 9,
   "metadata": {
    "id": "YbdW4CfC5YQa"
   },
   "outputs": [
    {
     "name": "stdout",
     "output_type": "stream",
     "text": [
      "{'lorem': 2, 'ipsum': 1, 'dolor': 1, 'diam': 5, 'amet': 2, 'consetetur': 1, 'magna': 2, 'sed': 1, 'nonumy': 1, 'eirmod': 1, 'tempor': 1, 'et': 3, 'labore': 1}\n"
     ]
    }
   ],
   "source": [
    "\n",
    "print(ta.freqAll())\n",
    "\n"
   ]
  },
  {
   "cell_type": "markdown",
   "metadata": {
    "id": "P6uBXVO65YQa"
   },
   "source": [
    "You have successfully calculated the frequency of all unique words in the string.\n"
   ]
  },
  {
   "cell_type": "markdown",
   "metadata": {
    "id": "Cd5JX9RZ5YQa"
   },
   "source": [
    "## Step 4: Call the function that counts the frequency of a specific word\n",
    "Here, you will call the function that counts the frequency of the word \"lorem\".\n",
    "<br>\n",
    "\n",
    "Print the output.**\n"
   ]
  },
  {
   "cell_type": "code",
   "execution_count": 10,
   "metadata": {
    "id": "doX9p0V85YQa"
   },
   "outputs": [
    {
     "name": "stdout",
     "output_type": "stream",
     "text": [
      "Frequency of 'lorem': 2\n"
     ]
    }
   ],
   "source": [
    "\n",
    "print(\"Frequency of 'lorem':\", ta.freqOf(\"lorem\"))\n"
   ]
  },
  {
   "cell_type": "markdown",
   "metadata": {
    "id": "EfA0hUUc5YQa"
   },
   "source": [
    "You have successfully calculated the frequency of all specified words.\n"
   ]
  }
 ],
 "metadata": {
  "colab": {
   "provenance": []
  },
  "kernelspec": {
   "display_name": "Python 3",
   "language": "python",
   "name": "python3"
  },
  "language_info": {
   "codemirror_mode": {
    "name": "ipython",
    "version": 3
   },
   "file_extension": ".py",
   "mimetype": "text/x-python",
   "name": "python",
   "nbconvert_exporter": "python",
   "pygments_lexer": "ipython3",
   "version": "3.11.9"
  }
 },
 "nbformat": 4,
 "nbformat_minor": 4
}
